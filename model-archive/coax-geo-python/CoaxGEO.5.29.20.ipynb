{
 "cells": [
  {
   "cell_type": "markdown",
   "metadata": {},
   "source": [
    "##### Toy Model of Coaxial Geothermal - Bob.Metcalfe@UTexas.edu - 5/29/20, NEVER FINAL DRAFT\n",
    "\n",
    "Playing with toy computer models is a great way to innovate. For example, I used toy models to invent Ethernet in 1973. Writing short codes to simulate various novel local-area network archectures led me to discover that there were good and bad system states. Ignoring details, I found convergences and oscillations similar to those later experienced in real life. I explored novel mechanisms for maintaining network stability and efficiency. \n",
    "\n",
    "Then we built them. Then we made them industry standards. Then we grew a company to develop, manufacture, market, sell, and support them at scale. Many more sophisicated mathematical and computer models followed my toy first drafts. Ethernet evolved into the Internet's IEEE standard plumbing, with billions of Ethernet ports shipping every year, billions, especially if you let me count Wireless Ethernet AKA Wi-Fi. All starting with toy models.\n",
    "\n",
    "So here I invite you to play with a toy model of geothermal wells. Professor Eric van Oort and other colleagues are working with much more detailed, much better models and will soon peer-review them. This toy model is merely a blog post. \n",
    "\n",
    "Many modellers will tell you they learn more from building models than from numerical results.\n",
    "\n",
    "My goal participating in http://TexasGEO.org is ... to solve energy once and for all -- cheap, clean, abundant, ubiquitous... We aim to do this with closed-loop baseload geothermal energy. There's plenty of heat in the Earth, billions of years worth. The trick is to harvest the heat safely and econmically, say drilling down ~10km into ~350C granite to bring 150C back to the surface for economic conversion into electricity. \n",
    "\n",
    "What you are reading is a Jupyter Python notebook containing an editable and executable toy geothermal well model. Since a major cost of geothermal wells is drilling, I thought I'd start with as little drilling as possible: one drilled hole with two concentric pipes. It's just a coincidence that the first Ethernet in 1973 used coaxial cable. We'll send a working fluid, say water, down the outer pipe into the hole to be heated by surrounding granite. Then we'll bring the hot water back to the surface up the inner pipe, hopefullhy hot enough to be efficiently converted to electricity. We'll see."
   ]
  },
  {
   "cell_type": "code",
   "execution_count": 1,
   "metadata": {},
   "outputs": [],
   "source": [
    "# Here we bring in some Python programming resources.\n",
    "import os\n",
    "import sys\n",
    "import math\n",
    "import copy\n",
    "from matplotlib import pyplot as plt\n",
    "import numpy as np"
   ]
  },
  {
   "cell_type": "code",
   "execution_count": 2,
   "metadata": {},
   "outputs": [],
   "source": [
    "# Here are important variables to be global\n",
    "global NumberOfIterations, NumberOfPipes, LengthOfPipe, PipeString\n",
    "global DepthOfWell, BottomTemperature, TopTemperature, LoopTime\n",
    "global History\n",
    "global JoulesPerIteration, plotJoulesPerIteration\n",
    "global plotBottomAmbient, plotTopAmbient, plotWellBottom, plotWellTop\n",
    "global ProbeTracker, ProbePipe, plotProbePipe, ProbeTemp, plotProbeTemp\n",
    "global plotIterations\n",
    "global EarthSurfaceTemperature, EarthTemperatureGradient\n",
    "global HeatExchangeThreshold\n",
    "global RockDensity, RockSpecificHeat, RockThermalConductivity\n",
    "global FluidDensity, FluidSpecificHeat, FluidThermalConductivity\n"
   ]
  },
  {
   "cell_type": "code",
   "execution_count": 3,
   "metadata": {},
   "outputs": [
    {
     "name": "stdout",
     "output_type": "stream",
     "text": [
      "Toy Geothermal Model\n"
     ]
    }
   ],
   "source": [
    "# Here is code for commenting orally on simulation progress.\n",
    "SpeakingOn = True # Turn event announcements on or off\n",
    "def say(s): \n",
    "    if (SpeakingOn): \n",
    "        os.system('say ' + s)\n",
    "        print(s)\n",
    "say(\"Toy Geothermal Model\")"
   ]
  },
  {
   "cell_type": "code",
   "execution_count": 4,
   "metadata": {},
   "outputs": [],
   "source": [
    "# Here we bring in some physical parameters of planet Earth\n",
    "# Note we sometimes show the units in brackets, like \"\"[C/m]\"\" for degrees Celsius per meter.\n",
    "EarthSurfaceTemperature = 15.0 # [C] Varies.\n",
    "EarthTemperatureGradient = 0.025 # [C/m] Varies.\n",
    "\n",
    "# Ambient temperature in degrees Celsius at depth in meters\n",
    "def AmbientTemperature(depth): # [C]\n",
    "    return EarthSurfaceTemperature + (depth * EarthTemperatureGradient)\n",
    "\n",
    "HeatExchangeThreshold = 150.0 # [C] Only heat at temps above this can be harvested\n",
    "\n",
    "# Rock is ~granite\n",
    "RockDensity = GraniteDensity = 2750000.0 # [g/m3]\n",
    "RockSpecificHeat = GraniteSpecificHeat = 0.790 # [J/gC]\n",
    "RockThermalConductivity = GraniteThermalConductivity = 2.62 # [W/mC]\n",
    "\n",
    "# Working fluid is liquid water, ignore for now that water will turn to steam and go supercritical\n",
    "FluidDensity = WaterDensity = 997000.0 # [g/m3]\n",
    "FluidSpecificHeat = WaterSpecificHeat = 4.186 # [J/gC]\n",
    "FluidThermalConductivity = WaterThermalConductivity = 0.6 # [W/mC]"
   ]
  },
  {
   "cell_type": "code",
   "execution_count": 5,
   "metadata": {},
   "outputs": [],
   "source": [
    "# Here we specify the coaxial pipes with which we are going to drill\n",
    "# Volume of inner and outer pipes is equal for now\n",
    "NumberOfPipes = 1000 # [n] \n",
    "LengthOfPipe = 10.0 # [m]\n",
    "DepthOfWell = NumberOfPipes * LengthOfPipe # [m] Assumes we are drilling straight down, vertical well\n",
    "BottomTemperature = AmbientTemperature(DepthOfWell)\n",
    "TopTemperature = AmbientTemperature(0)\n",
    "if (BottomTemperature < HeatExchangeThreshold):\n",
    "    say(\"This well will not be deep enough to produce any energy, but drill we must.\") \n",
    "\n",
    "# AOI: inner pipe has an inner radius, outer pipe has a larger radius to keep up and down same volume.\n",
    "InnerRadius = 0.5 # [m]\n",
    "OuterRadius = InnerRadius * math.sqrt(2) # [m] Outer volume is net of inner volume inside it.\n",
    "\n",
    "pi = math.pi\n",
    "InnerArea = (2 * pi * InnerRadius) * LengthOfPipe # [m2 = square meters]\n",
    "OuterArea = (2 * pi * OuterRadius) * LengthOfPipe # [m2]\n",
    "InnerVolume = (pi * InnerRadius ** 2) * LengthOfPipe # [m3 = cubic meters]\n",
    "OuterVolume = ((pi * OuterRadius ** 2) * LengthOfPipe) - InnerVolume # [m3] Outer volume is net of inner.\n",
    "InnerMass = InnerVolume * FluidDensity # [g]\n",
    "OuterMass = OuterVolume * FluidDensity # [g]\n",
    "\n",
    "# Check to be sure inner and outer pipe volumes are equal (for now)\n",
    "if round(InnerVolume,4) != round(OuterVolume,4): print(\"Inner and outer pipe volumnes are not equal.\")"
   ]
  },
  {
   "cell_type": "code",
   "execution_count": 6,
   "metadata": {},
   "outputs": [
    {
     "name": "stdout",
     "output_type": "stream",
     "text": [
      "Drill baby drill. 1000 pipes to 10000 meters reaching from 15.0 down to 265.0 Celsius.\n"
     ]
    }
   ],
   "source": [
    "# Let the drilling begin\n",
    "# Drill straight down by concatenating pipes in a pipe string\n",
    "PipeString = [] # Starts null, pipes appended at ambient temperature\n",
    "\n",
    "# i is index of pipe in PipeString, from 0 to NumberOfPipes-1\n",
    "for i in range(NumberOfPipes):\n",
    "    ambienttemp = AmbientTemperature(i * LengthOfPipe)\n",
    "    # fluid goes down outer pipe and up the inner pipe\n",
    "    pipe = copy.deepcopy({\"innertemp\": ambienttemp,\"outertemp\": ambienttemp})\n",
    "    PipeString.append(pipe) # Drill baby, drill\n",
    "say(\"Drill baby drill. \" + str(NumberOfPipes) + \" pipes to \" + str(int(DepthOfWell)) + \" meters reaching from \" + \n",
    "    str(TopTemperature) + \" down to \" + str(BottomTemperature) + \" Celsius.\")"
   ]
  },
  {
   "cell_type": "code",
   "execution_count": 7,
   "metadata": {},
   "outputs": [],
   "source": [
    "# ---------- Completion of well at the surface. Bottom pipe is assumed to connect down to up.\n",
    "IterationTime = 10 # [s] # Each iteration takes time to pump contents of one pipe.\n",
    "PumpSpeed = InnerVolume/IterationTime # [m3/s]\n",
    "LoopTime = 2 * (IterationTime * NumberOfPipes)"
   ]
  },
  {
   "cell_type": "code",
   "execution_count": 8,
   "metadata": {},
   "outputs": [],
   "source": [
    "def Initialize(): # Get ready to run again on exisitng well pipes\n",
    "    \n",
    "    global NumberOfPipes, PipeString, LengthOfPipe\n",
    "    global History\n",
    "    global plotJoulesPerIteration, JoulesPerIteration\n",
    "    global plotBottomAmbient\n",
    "    global plotTopAmbient\n",
    "    global plotWellBottom\n",
    "    global plotWellTop\n",
    "    global ProbeTracker\n",
    "    global ProbePipe\n",
    "    global plotProbePipe\n",
    "    global ProbeTemp\n",
    "    global plotProbeTemp\n",
    "    global plotIterations, iteration\n",
    "\n",
    "    History = [] # This could be huge, collects all pipes at all iterations.\n",
    "    JoulesPerIteration = 0\n",
    "    plotJoulesPerIteration = []\n",
    "    plotBottomAmbient = []\n",
    "    plotTopAmbient = []\n",
    "    plotWellBottom = []\n",
    "    plotWellTop = []\n",
    "    ProbeTracker = ((2 * NumberOfPipes) - 1) # To start increment at outer zero (0)\n",
    "    ProbePipe = 0\n",
    "    plotProbePipe = []\n",
    "    ProbeTemp = 0\n",
    "    plotProbeTemp = []\n",
    "    plotIterations = []\n",
    "\n",
    "    # i is index of pipe in PipeString, from 0 to NumberOfPipes-1, init with ambient at depth\n",
    "    for i in range(NumberOfPipes):\n",
    "        ambienttemp = AmbientTemperature(i * LengthOfPipe)\n",
    "        # fluid goes down outer pipe and up the inner pipe\n",
    "        PipeString[i] = copy.deepcopy({\"innertemp\": ambienttemp,\"outertemp\": ambienttemp})\n",
    "        "
   ]
  },
  {
   "cell_type": "code",
   "execution_count": 9,
   "metadata": {},
   "outputs": [],
   "source": [
    "# This AOI may look like thermodynamics, but it is not.\n",
    "\n",
    "def AOI():\n",
    "    \n",
    "    global PipeString, LengthOfPipe\n",
    "    \n",
    "    for j in range(len(PipeString)): # once for each pipe, from 0 to len(PipeString)-1\n",
    "        \n",
    "        pipe = PipeString[j] # one pipe at a time\n",
    "        \n",
    "        Atemp = AmbientTemperature(j * LengthOfPipe)\n",
    "        OtempStart = pipe[\"outertemp\"]\n",
    "        ItempStart = pipe[\"innertemp\"]\n",
    "        \n",
    "        OtempEnd = (Atemp + OtempStart + ItempStart) / 3.0\n",
    "        ItempEnd = (OtempStart + ItempStart) / 2.0\n",
    "        \n",
    "        pipe[\"outertemp\"] = OtempEnd\n",
    "        pipe[\"innertemp\"] = ItempEnd\n",
    "        \n",
    "        PipeString[j] = copy.deepcopy(pipe)"
   ]
  },
  {
   "cell_type": "code",
   "execution_count": 10,
   "metadata": {},
   "outputs": [],
   "source": [
    "# pump fluid around PipeString, down outer, up inner chamber\n",
    "# AOL = Ambient, Outer (down), Inner (up)\n",
    "\n",
    "def Flow(): \n",
    "    \n",
    "    global History\n",
    "    global PipeString, NumberOfPipes, LengthOfPipe\n",
    "    global JoulesPerIteration, plotJoulesPerIteration, TopTemp, UseableTemp, HeatExchangeThreshold\n",
    "    global OuterMass, FluidSpecificheat\n",
    "    global ProbeTracker, plotProbePipe, ProbePipe, ProbeTemp\n",
    "    global plotBottomAmbient, plotTopAmbient\n",
    "    global plotWellBottom, plotWellTop\n",
    "    global plotProbeTemp, ProbeTemp\n",
    "    global plotIterations, iteration\n",
    "    global BottomTemperature, TopTemperature\n",
    "    global FluidSpecificHeat\n",
    "\n",
    "    NOP = len(PipeString) # Number Of Pipes\n",
    "    if (NOP != NumberOfPipes):\n",
    "        print(\"Number of pipes mismatch\",NumberOfPipes,NOP)\n",
    "        sys.exit(0)\n",
    "        \n",
    "    # Collect history for plotting at the end\n",
    "    # History.append(copy.deepcopy(PipeString)) # This is big: iterations X pipes X temperatures\n",
    "    \n",
    "    plotJoulesPerIteration.append(JoulesPerIteration)\n",
    "    plotBottomAmbient.append(AmbientTemperature(len(PipeString) * LengthOfPipe))\n",
    "    plotTopAmbient.append(AmbientTemperature(0))\n",
    "    plotWellBottom.append(PipeString[-1][\"outertemp\"]) # Temperature of working fluid at bottom of well\n",
    "    plotWellTop.append(PipeString[0][\"innertemp\"]) # Temperature of working fluid at top of the well\n",
    "    plotProbePipe.append(ProbePipe)\n",
    "    plotProbeTemp.append(ProbeTemp)\n",
    "    plotIterations.append(iteration)\n",
    "\n",
    "\n",
    "    # Be sure circulation of working fluid does not lose any frluid, add all up\n",
    "    checksum = 0\n",
    "    for p in PipeString:\n",
    "        checksum += (round(p[\"outertemp\"],3) + round(p[\"innertemp\"],3))\n",
    "        \n",
    "    ################ Start moving fluid\n",
    "    \n",
    "    saved0i = PipeString[0][\"innertemp\"] # Temp hold on temperature about to be overwritten, 0th inner, top inner\n",
    "\n",
    "    # Move fluid up inner pipe\n",
    "    for n in range(NOP-1):\n",
    "        PipeString[n][\"innertemp\"] = PipeString[n+1][\"innertemp\"] # fluid moving up\n",
    "\n",
    "    # Turn around at bottom of well, from down outer to up inner\n",
    "    PipeString[NOP-1][\"innertemp\"] = PipeString[NOP-1][\"outertemp\"]\n",
    "\n",
    "    # Move fluid down outer pipe\n",
    "    for n in range(NOP-1,0,-1):\n",
    "        PipeString[n][\"outertemp\"] = PipeString[n-1][\"outertemp\"]\n",
    "\n",
    "    PipeString[0][\"outertemp\"] = saved0i\n",
    "    \n",
    "    #Check that working fluid is conserved\n",
    "    check = 0\n",
    "    for p in PipeString:\n",
    "        check += (round(p[\"outertemp\"],3) + round(p[\"innertemp\"],3))\n",
    "    if (round(check,3) != round(checksum,3)):\n",
    "        print(\"Flow pumping is broken.\")\n",
    "        sys.exit(0)\n",
    "\n",
    "    # Move Probe\n",
    "    \n",
    "    ProbeTracker = ProbeTracker + 1 # Advance probe outer: 0 -> NOP-1; inner: NOP -> 2NOP-1\n",
    "    \n",
    "    if (ProbeTracker > ((2 * NumberOfPipes) - 1)): \n",
    "        ProbeTracker = 0 # Probe varies from 0 to 2*NOP-1\n",
    "        \n",
    "    if (ProbeTracker <= (NumberOfPipes - 1)): # Is probe in downward pipe?\n",
    "        ProbePipe = ProbeTracker # Downward\n",
    "        ProbeTemp = PipeString[ProbePipe][\"outertemp\"]\n",
    "    elif ((NumberOfPipes - 1) < ProbeTracker < (2 * NumberOfPipes)):\n",
    "        ProbePipe = ((2 * NumberOfPipes) - 1) - ProbeTracker # Upward\n",
    "        ProbeTemp = PipeString[ProbePipe][\"innertemp\"]\n",
    "    else:\n",
    "        print(\"ProbeTracker out of range.\")\n",
    "        sys.exit(0)\n",
    "        \n",
    "    # Adjust probe for dispay among temperatures\n",
    "    ProbePipe = ((ProbePipe / (NumberOfPipes - 1)) * \n",
    "                 (BottomTemperature - TopTemperature)) + TopTemperature\n",
    "        \n",
    "    ################# End moving fluid - Harvest C appearing at top\n",
    "    \n",
    "    TopTemp = PipeString[0][\"outertemp\"]\n",
    "    if (TopTemp > HeatExchangeThreshold):\n",
    "        UseableTemp = TopTemp - HeatExchangeThreshold\n",
    "        PipeString[0][\"outertemp\"] = HeatExchangeThreshold\n",
    "        JoulesPerIteration = OuterMass * FluidSpecificHeat * UseableTemp\n"
   ]
  },
  {
   "cell_type": "code",
   "execution_count": 11,
   "metadata": {},
   "outputs": [],
   "source": [
    "def IterationPlot(suptitletext=''): \n",
    "    \n",
    "    global plotIterations\n",
    "    \n",
    "    global plotJoulesPerIteration\n",
    "    global plotBottomAmbient\n",
    "    global plotTopAmbient\n",
    "    global plotWellBottom\n",
    "    global plotWellTop\n",
    "    global plotProbePipe\n",
    "    global plotProbeTemp\n",
    "    \n",
    "    global BottomTemperature, TopTemperature\n",
    "    \n",
    "    t = 0.0\n",
    "    for j in range(len(plotJoulesPerIteration)):\n",
    "        t += plotJoulesPerIteration[j]\n",
    "    print(\"Total 'joules' produced are\",f\"{round(t):,}\")\n",
    "    \n",
    "    f = plt.figure(figsize=(20,10))\n",
    "    plt.plot(plotIterations, plotBottomAmbient, color='red', linestyle='dashed', linewidth = 5)\n",
    "    plt.plot(plotIterations, plotTopAmbient, color='green', linestyle='dashed', linewidth = 5)\n",
    "    plt.plot(plotIterations, plotWellBottom, color='blue', linestyle='dashed', linewidth = 7)\n",
    "    plt.plot(plotIterations, plotWellTop, color='black', linestyle='dashed', linewidth = 3)\n",
    "    plt.plot(plotIterations, plotProbePipe, color='orange', linewidth = 1)\n",
    "    plt.plot(plotIterations, plotProbeTemp, color='black', linewidth = 1)\n",
    "\n",
    "    plt.xlabel('Iterations')\n",
    "    plt.ylabel('Bot Amb Red, Top Amb Green, Well Bot Blue, Well Top Black, Probe Yellow/Orange')\n",
    "    plt.title(\"Metcalfe's Toy Coax Geothermal Model\")\n",
    "    plt.suptitle(suptitletext)\n",
    "    plt.grid(True)\n",
    "    plt.ylim(BottomTemperature,TopTemperature)\n",
    "    plt.show()\n",
    "    "
   ]
  },
  {
   "cell_type": "markdown",
   "metadata": {},
   "source": [
    "Crude Temperature Averaging"
   ]
  },
  {
   "cell_type": "code",
   "execution_count": 12,
   "metadata": {},
   "outputs": [
    {
     "name": "stdout",
     "output_type": "stream",
     "text": [
      "Starting Crude Temperature Averaging over 1000 iterations.\n",
      "Iteration 1 thousand\n",
      "Total 'joules' produced are 0\n"
     ]
    },
    {
     "data": {
      "image/png": "[encoded data removed]",
      "text/plain": [
       "<Figure size 1440x720 with 1 Axes>"
      ]
     },
     "metadata": {
      "needs_background": "light"
     },
     "output_type": "display_data"
    },
    {
     "name": "stdout",
     "output_type": "stream",
     "text": [
      "Completed Crude Temperature Averaging\n"
     ]
    }
   ],
   "source": [
    "titlestring = \"Crude Temperature Averaging\"\n",
    "\n",
    "Initialize()\n",
    "\n",
    "NumberOfIterations = 1000 # int(NumberOfPipes * 0.5)\n",
    "\n",
    "say(\"Starting \" + titlestring + \" over \" + str(NumberOfIterations) + \" iterations.\") \n",
    "\n",
    "if (NumberOfIterations > 0):\n",
    "    for iteration in range(NumberOfIterations): # iteration on thermo update \n",
    "        AOI() # Update inner and outer temps from AOI\n",
    "        Flow() # Move working fluid one pipe along, up, down, and around\n",
    "        if ((iteration%1000) == 999):\n",
    "            thousands = str((iteration+1)//1000)\n",
    "            say(\"Iteration \" + thousands + \" thousand\")  \n",
    "    IterationPlot(titlestring) \n",
    "    say(\"Completed \" + titlestring)\n",
    "else:\n",
    "    say(\"Skipped.\")\n"
   ]
  },
  {
   "cell_type": "code",
   "execution_count": 13,
   "metadata": {},
   "outputs": [],
   "source": [
    "# This AOI may look like thermodynamics, but it is not.\n",
    "\n",
    "def AOI2():\n",
    "    \n",
    "    global PipeString, LengthOfPipe\n",
    "    \n",
    "    for j in range(len(PipeString)): # once for each pipe, from 0 to len(PipeString)-1\n",
    "        \n",
    "        # What about PumpTime, Mass\n",
    "        \n",
    "        pipe = PipeString[j] # one pipe at a time\n",
    "                \n",
    "        Atemp = AmbientTemperature(j * LengthOfPipe)\n",
    "        OtempStart = pipe[\"outertemp\"]\n",
    "        ItempStart = pipe[\"innertemp\"]\n",
    "        \n",
    "        OtempEnd = (Atemp + 10*OtempStart) / 11.0\n",
    "        ItempEnd = (OtempStart + 50*ItempStart) / 51.0\n",
    "        \n",
    "        # DeltaAO = Atemp - OtempStart\n",
    "        # DeltaOI = OtempStart - ItempStart\n",
    "        \n",
    "        # OtempEnd = OtempStart + (10.0 * DeltaAO * FluidThermalConductivity * OuterArea * IterationTime) / OuterMass\n",
    "        # ItempEnd = ItempStart + (2.0 * DeltaOI * FluidThermalConductivity * InnerArea * IterationTime) / InnerMass\n",
    "\n",
    "        pipe[\"outertemp\"] = OtempEnd\n",
    "        pipe[\"innertemp\"] = ItempEnd\n",
    "\n",
    "        PipeString[j] = copy.deepcopy(pipe)\n",
    "        \n",
    "        # print(\"AOI2\",j,Atemp,OtempStart,OtempEnd,ItempStart,ItempEnd,pipe)\n",
    "        "
   ]
  },
  {
   "cell_type": "code",
   "execution_count": 14,
   "metadata": {},
   "outputs": [
    {
     "name": "stdout",
     "output_type": "stream",
     "text": [
      "Starting Simple Heat Flow over 100 iterations.\n",
      "Total 'joules' produced are 0\n"
     ]
    },
    {
     "data": {
      "image/png": "[encoded data removed]",
      "text/plain": [
       "<Figure size 1440x720 with 1 Axes>"
      ]
     },
     "metadata": {
      "needs_background": "light"
     },
     "output_type": "display_data"
    },
    {
     "name": "stdout",
     "output_type": "stream",
     "text": [
      "Completed Simple Heat Flow\n"
     ]
    }
   ],
   "source": [
    "titlestring = \"Simple Heat Flow\"\n",
    "\n",
    "Initialize()\n",
    "\n",
    "NumberOfIterations = 100\n",
    "\n",
    "say(\"Starting \" + titlestring + \" over \" + str(NumberOfIterations) + \" iterations.\") \n",
    "\n",
    "if (NumberOfIterations > 0):\n",
    "    for iteration in range(NumberOfIterations): # iteration on thermo update\n",
    "        AOI2() # Update inner and outer temps from AOI\n",
    "        Flow() # Move working fluid one pipe along, up, down, and around \n",
    "        if ((iteration%1000) == 999):\n",
    "            thousands = str((iteration+1)//1000)\n",
    "            say(\"Iteration \" + thousands + \" thousand\")\n",
    "    IterationPlot(titlestring)\n",
    "    say(\"Completed \" + titlestring)\n",
    "else:\n",
    "    say(\"Skipped.\")"
   ]
  },
  {
   "cell_type": "markdown",
   "metadata": {},
   "source": [
    "Insulation of pipestring nearer the surface"
   ]
  },
  {
   "cell_type": "code",
   "execution_count": 15,
   "metadata": {},
   "outputs": [],
   "source": [
    "def AOIINS():\n",
    "    \n",
    "    global PipeString, LengthOfPipe, Transition\n",
    "    \n",
    "    for j in range(len(PipeString)): # once for each pipe, from 0 to len(PipeString)-1\n",
    "                \n",
    "        pipe = PipeString[j] # one pipe at a time\n",
    "        \n",
    "        Atemp = AmbientTemperature(j * LengthOfPipe)\n",
    "        OtempStart = pipe[\"outertemp\"]\n",
    "        ItempStart = pipe[\"innertemp\"]\n",
    "        \n",
    "        OtempEnd = (Atemp + OtempStart + ItempStart) / 3.0\n",
    "        ItempEnd = (OtempStart + ItempStart) / 2.0\n",
    "        \n",
    "        pipe[\"outertemp\"] = OtempEnd\n",
    "        \n",
    "        if (j > Transition): # Leave inner temp unchanged below insulation transition \n",
    "            pipe[\"innertemp\"] = ItempEnd\n",
    "            \n",
    "        PipeString[j] = copy.deepcopy(pipe)\n"
   ]
  },
  {
   "cell_type": "code",
   "execution_count": 16,
   "metadata": {},
   "outputs": [
    {
     "name": "stdout",
     "output_type": "stream",
     "text": [
      "Starting Top Segment Insulation with iterations 100\n",
      "Total 'joules' produced are 0\n"
     ]
    },
    {
     "data": {
      "image/png": "[encoded data removed]",
      "text/plain": [
       "<Figure size 1440x720 with 1 Axes>"
      ]
     },
     "metadata": {
      "needs_background": "light"
     },
     "output_type": "display_data"
    },
    {
     "name": "stdout",
     "output_type": "stream",
     "text": [
      "Completed Top Segment Insulation\n"
     ]
    }
   ],
   "source": [
    "titlestring = \"Top Segment Insulation\"\n",
    "\n",
    "Transition = NumberOfPipes / 2.0\n",
    "\n",
    "Initialize()\n",
    "\n",
    "NumberOfIterations = 100\n",
    "\n",
    "say(\"Starting \" + titlestring + \" with iterations \" + str(NumberOfIterations))\n",
    "\n",
    "    \n",
    "for iteration in range(NumberOfIterations): # iteration on thermo update\n",
    "    \n",
    "    AOIINS() # Update inner and outer temps from AOI\n",
    "    \n",
    "    Flow() # Move working fluid one pipe along, up, down, and around \n",
    "    \n",
    "    if ((iteration%1000) == 999):\n",
    "        thousands = str((iteration+1)//1000)\n",
    "        say(\"Iteration \" + thousands + \" thousand\")\n",
    "        \n",
    "IterationPlot(titlestring)\n",
    "        \n",
    "say(\"Completed \" + titlestring)"
   ]
  },
  {
   "cell_type": "markdown",
   "metadata": {},
   "source": [
    "Twist Pipe Insertion"
   ]
  },
  {
   "cell_type": "code",
   "execution_count": 17,
   "metadata": {},
   "outputs": [
    {
     "data": {
      "text/plain": [
       "[15.0,\n",
       " 15.25,\n",
       " 15.5,\n",
       " 15.75,\n",
       " 16.0,\n",
       " 16.25,\n",
       " 16.5,\n",
       " 16.75,\n",
       " 17.0,\n",
       " 17.25,\n",
       " 17.5,\n",
       " 17.75,\n",
       " 18.0,\n",
       " 18.25,\n",
       " 18.5,\n",
       " 18.75,\n",
       " 19.0,\n",
       " 19.25,\n",
       " 19.5,\n",
       " 19.75,\n",
       " 20.0,\n",
       " 20.25,\n",
       " 20.5,\n",
       " 20.75,\n",
       " 21.0,\n",
       " 21.25,\n",
       " 21.5,\n",
       " 21.75,\n",
       " 22.0,\n",
       " 22.25,\n",
       " 22.5,\n",
       " 22.75,\n",
       " 23.0,\n",
       " 23.25,\n",
       " 23.5,\n",
       " 23.75,\n",
       " 24.0,\n",
       " 24.25,\n",
       " 24.5,\n",
       " 24.75,\n",
       " 25.0,\n",
       " 25.25,\n",
       " 25.5,\n",
       " 25.75,\n",
       " 26.0,\n",
       " 26.25,\n",
       " 26.5,\n",
       " 26.75,\n",
       " 27.0,\n",
       " 27.25,\n",
       " 27.5,\n",
       " 27.75,\n",
       " 28.0,\n",
       " 28.25,\n",
       " 28.5,\n",
       " 28.75,\n",
       " 29.0,\n",
       " 29.25,\n",
       " 29.5,\n",
       " 29.75,\n",
       " 30.0,\n",
       " 30.25,\n",
       " 30.5,\n",
       " 30.75,\n",
       " 31.0,\n",
       " 31.25,\n",
       " 31.5,\n",
       " 31.75,\n",
       " 32.0,\n",
       " 32.25,\n",
       " 32.5,\n",
       " 32.75,\n",
       " 33.0,\n",
       " 33.25,\n",
       " 33.5,\n",
       " 33.75,\n",
       " 34.0,\n",
       " 34.25,\n",
       " 34.5,\n",
       " 34.75,\n",
       " 35.0,\n",
       " 35.25,\n",
       " 35.5,\n",
       " 35.75,\n",
       " 36.0,\n",
       " 36.25,\n",
       " 36.5,\n",
       " 36.75,\n",
       " 37.0,\n",
       " 37.25,\n",
       " 37.5,\n",
       " 37.75,\n",
       " 38.0,\n",
       " 38.25,\n",
       " 38.5,\n",
       " 38.75,\n",
       " 39.0,\n",
       " 39.25,\n",
       " 39.5,\n",
       " 39.75]"
      ]
     },
     "execution_count": 17,
     "metadata": {},
     "output_type": "execute_result"
    }
   ],
   "source": [
    "plotWellTop"
   ]
  },
  {
   "cell_type": "code",
   "execution_count": 18,
   "metadata": {},
   "outputs": [],
   "source": [
    "def AOI4():\n",
    "    \n",
    "    global PipeString, LengthOfPipe, Transition\n",
    "    \n",
    "    for j in range(len(PipeString)): # once for each pipe, from 0 to len(PipeString)-1\n",
    "        \n",
    "        if (j < Transition): continue # Higher pipes are insulated and gain/lose NO temperature\n",
    "        \n",
    "        pipe = PipeString[j] # one pipe at a time\n",
    "        \n",
    "        Atemp = AmbientTemperature(j * LengthOfPipe)\n",
    "        OtempStart = pipe[\"outertemp\"]\n",
    "        ItempStart = pipe[\"innertemp\"]\n",
    "        \n",
    "        DeltaAO = Atemp - OtempStart\n",
    "        DeltaOI = OtempStart - ItempStart\n",
    "        \n",
    "        OtempEnd = OtempStart + (5.0 * DeltaAO * FluidThermalConductivity * OuterArea * IterationTime) / OuterMass\n",
    "        ItempEnd = ItempStart + (5.0 * DeltaOI * FluidThermalConductivity * InnerArea * IterationTime) / InnerMass\n",
    "\n",
    "        if (j == Transition): # Here the inner and outer pipes get switched\n",
    "            pipe[\"outertemp\"] = ItempEnd\n",
    "            pipe[\"innertemp\"] = OtempEnd\n",
    "        else:\n",
    "            pipe[\"outertemp\"] = OtempEnd\n",
    "            pipe[\"innertemp\"] = ItempEnd\n",
    "        \n",
    "        PipeString[j] = copy.deepcopy(pipe)"
   ]
  },
  {
   "cell_type": "code",
   "execution_count": 19,
   "metadata": {},
   "outputs": [
    {
     "name": "stdout",
     "output_type": "stream",
     "text": [
      "Starting Twist Pipe Insertion\n"
     ]
    },
    {
     "ename": "NameError",
     "evalue": "name 'AOI3' is not defined",
     "output_type": "error",
     "traceback": [
      "\u001b[0;31m---------------------------------------------------------------------------\u001b[0m",
      "\u001b[0;31mNameError\u001b[0m                                 Traceback (most recent call last)",
      "\u001b[0;32m<ipython-input-19-e55e48599ca8>\u001b[0m in \u001b[0;36m<module>\u001b[0;34m\u001b[0m\n\u001b[1;32m     11\u001b[0m \u001b[0;32mfor\u001b[0m \u001b[0miteration\u001b[0m \u001b[0;32min\u001b[0m \u001b[0mrange\u001b[0m\u001b[0;34m(\u001b[0m\u001b[0mNumberOfIterations\u001b[0m\u001b[0;34m)\u001b[0m\u001b[0;34m:\u001b[0m \u001b[0;31m# iteration on thermo update\u001b[0m\u001b[0;34m\u001b[0m\u001b[0;34m\u001b[0m\u001b[0m\n\u001b[1;32m     12\u001b[0m \u001b[0;34m\u001b[0m\u001b[0m\n\u001b[0;32m---> 13\u001b[0;31m     \u001b[0mAOI3\u001b[0m\u001b[0;34m(\u001b[0m\u001b[0;34m)\u001b[0m \u001b[0;31m# Update inner and outer temps from AOI, with twist at transition\u001b[0m\u001b[0;34m\u001b[0m\u001b[0;34m\u001b[0m\u001b[0m\n\u001b[0m\u001b[1;32m     14\u001b[0m \u001b[0;34m\u001b[0m\u001b[0m\n\u001b[1;32m     15\u001b[0m     \u001b[0mFlow\u001b[0m\u001b[0;34m(\u001b[0m\u001b[0;34m)\u001b[0m \u001b[0;31m# Move working fluid one pipe along, up, down, and around\u001b[0m\u001b[0;34m\u001b[0m\u001b[0;34m\u001b[0m\u001b[0m\n",
      "\u001b[0;31mNameError\u001b[0m: name 'AOI3' is not defined"
     ]
    }
   ],
   "source": [
    "titlestring = \"Twist Pipe Insertion\"\n",
    "say(\"Starting \" + titlestring)\n",
    "\n",
    "Transition = NumberOfPipes / 2.0\n",
    "\n",
    "Initialize()\n",
    "\n",
    "NumberOfIterations = 100\n",
    "\n",
    "    \n",
    "for iteration in range(NumberOfIterations): # iteration on thermo update\n",
    "    \n",
    "    AOI3() # Update inner and outer temps from AOI, with twist at transition\n",
    "    \n",
    "    Flow() # Move working fluid one pipe along, up, down, and around \n",
    "    \n",
    "    if ((iteration%1000) == 999):\n",
    "        thousands = str((iteration+1)//1000)\n",
    "        say(\"Iteration \" + thousands + \" thousand\")\n",
    "    \n",
    "IterationPlot(titlestring)\n",
    "\n",
    "say(\"Completed \" + titlestring)"
   ]
  },
  {
   "cell_type": "markdown",
   "metadata": {},
   "source": [
    "Horizontal Leg"
   ]
  },
  {
   "cell_type": "markdown",
   "metadata": {},
   "source": [
    "Small Faster Heat Return"
   ]
  },
  {
   "cell_type": "code",
   "execution_count": null,
   "metadata": {},
   "outputs": [],
   "source": [
    "say(\"Toy Geothermal Model Completed. Have a nice day.\")\n"
   ]
  },
  {
   "cell_type": "markdown",
   "metadata": {},
   "source": [
    "MAINTENANCE AND DEBUGGING"
   ]
  },
  {
   "cell_type": "code",
   "execution_count": null,
   "metadata": {},
   "outputs": [],
   "source": [
    "def PPS():\n",
    "    print(\"\\n---- aaaaaa oooooo iiiiii\")\n",
    "    for k in range(NumberOfPipes):\n",
    "        # if (math.remainder(k,100) != 0) and (k != NumberOfPipes-1):\n",
    "        #    continue\n",
    "        ps0 = \"{:4d}\".format(k)\n",
    "        ps1 = \"{:6.2f}\".format(AmbientTemperature(k*LengthOfPipe))\n",
    "        ps2 = \"{:6.2f}\".format(PipeString[k][\"outertemp\"])\n",
    "        ps3 = \"{:6.2f}\".format(PipeString[k][\"innertemp\"])\n",
    "        print(ps0,ps1,ps2,ps3)\n"
   ]
  },
  {
   "cell_type": "code",
   "execution_count": null,
   "metadata": {},
   "outputs": [],
   "source": [
    "PPS()"
   ]
  },
  {
   "cell_type": "code",
   "execution_count": null,
   "metadata": {},
   "outputs": [],
   "source": []
  }
 ],
 "metadata": {
  "kernelspec": {
   "display_name": "Python 3",
   "language": "python",
   "name": "python3"
  },
  "language_info": {
   "codemirror_mode": {
    "name": "ipython",
    "version": 3
   },
   "file_extension": ".py",
   "mimetype": "text/x-python",
   "name": "python",
   "nbconvert_exporter": "python",
   "pygments_lexer": "ipython3",
   "version": "3.8.2"
  }
 },
 "nbformat": 4,
 "nbformat_minor": 4
}
